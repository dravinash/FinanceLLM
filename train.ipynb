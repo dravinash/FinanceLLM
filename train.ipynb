{
  "cells": [
    {
      "cell_type": "code",
      "execution_count": null,
      "metadata": {
        "id": "UflH8Ztgyir_"
      },
      "outputs": [],
      "source": [
        "# !pip3 uninstall --yes torch torchaudio torchvision torchtext torchdata\n",
        "# !pip3 install torch torchaudio torchvision torchtext torchdata\n",
        "# !pip install sympy\n",
        "# !pip install transformers==4.28.0\n",
        "# !pip install tqdm\n"
      ]
    },
    {
      "cell_type": "code",
      "execution_count": null,
      "metadata": {
        "colab": {
          "base_uri": "https://localhost:8080/"
        },
        "id": "LNyv73vV0lNS",
        "outputId": "ac79b9cd-f1b2-405a-96a0-547ba6261942"
      },
      "outputs": [
        {
          "name": "stdout",
          "output_type": "stream",
          "text": [
            "Drive already mounted at /content/drive; to attempt to forcibly remount, call drive.mount(\"/content/drive\", force_remount=True).\n"
          ]
        }
      ],
      "source": [
        "from google.colab import drive\n",
        "drive.mount('/content/drive')"
      ]
    },
    {
      "cell_type": "code",
      "execution_count": null,
      "metadata": {
        "colab": {
          "base_uri": "https://localhost:8080/"
        },
        "id": "YkQ5cyhV0wDa",
        "outputId": "efb2934a-9917-455a-a270-bfe66070f4b5"
      },
      "outputs": [
        {
          "name": "stdout",
          "output_type": "stream",
          "text": [
            "/content/drive/MyDrive/Colab Notebooks/Finance_LLM\n"
          ]
        }
      ],
      "source": [
        "# list all directory and files\n",
        "# %ls \"/content/drive/MyDrive/Colab Notebooks/Finance_LLM/\"\n",
        "\n",
        "# Change directory\n",
        "%cd \"/content/drive/MyDrive/Colab Notebooks/Finance_LLM\""
      ]
    },
    {
      "cell_type": "code",
      "execution_count": null,
      "metadata": {
        "id": "1mWsWpoDzEf-"
      },
      "outputs": [],
      "source": [
        "from tqdm import tqdm\n",
        "import json\n",
        "import os\n",
        "from datetime import datetime\n",
        "import time\n",
        "import logging\n",
        "from utils import *\n",
        "from config import parameters as conf\n",
        "from torch import nn\n",
        "import torch\n",
        "import torch.optim as optim\n",
        "\n",
        "\n",
        "from Model_new import Bert_model"
      ]
    },
    {
      "cell_type": "code",
      "execution_count": null,
      "metadata": {
        "colab": {
          "base_uri": "https://localhost:8080/"
        },
        "id": "I5ES79PX2h9P",
        "outputId": "600f0ade-379e-4c4f-faf9-d482aaa4466a"
      },
      "outputs": [
        {
          "name": "stdout",
          "output_type": "stream",
          "text": [
            "Using bert\n"
          ]
        },
        {
          "name": "stderr",
          "output_type": "stream",
          "text": [
            "/usr/local/lib/python3.10/dist-packages/huggingface_hub/file_download.py:1132: FutureWarning: `resume_download` is deprecated and will be removed in version 1.0.0. Downloads always resume when possible. If you want to force a new download, use `force_download=True`.\n",
            "  warnings.warn(\n",
            "/usr/local/lib/python3.10/dist-packages/huggingface_hub/utils/_token.py:89: UserWarning: \n",
            "The secret `HF_TOKEN` does not exist in your Colab secrets.\n",
            "To authenticate with the Hugging Face Hub, create a token in your settings tab (https://huggingface.co/settings/tokens), set it as secret in your Google Colab and restart your session.\n",
            "You will be able to reuse this secret in all of your notebooks.\n",
            "Please note that authentication is recommended but still optional to access public models or datasets.\n",
            "  warnings.warn(\n"
          ]
        }
      ],
      "source": [
        "if conf.pretrained_model == \"bert\":\n",
        "    print(\"Using bert\")\n",
        "    from transformers import BertTokenizer\n",
        "    from transformers import BertConfig\n",
        "    tokenizer = BertTokenizer.from_pretrained(conf.model_size)\n",
        "    model_config = BertConfig.from_pretrained(conf.model_size)\n",
        "\n",
        "elif conf.pretrained_model == \"roberta\":\n",
        "    print(\"Using roberta\")\n",
        "    from transformers import RobertaTokenizer\n",
        "    from transformers import RobertaConfig\n",
        "    tokenizer = RobertaTokenizer.from_pretrained(conf.model_size)\n",
        "    model_config = RobertaConfig.from_pretrained(conf.model_size)\n",
        "\n",
        "elif conf.pretrained_model == \"finbert\":\n",
        "    print(\"Using finbert\")\n",
        "    from transformers import BertTokenizer\n",
        "    from transformers import BertConfig\n",
        "    tokenizer = BertTokenizer.from_pretrained(\"bert-base-uncased\")\n",
        "    model_config = BertConfig.from_pretrained(conf.model_size)\n",
        "\n",
        "elif conf.pretrained_model == \"longformer\":\n",
        "    print(\"Using longformer\")\n",
        "    from transformers import LongformerTokenizer, LongformerConfig\n",
        "    tokenizer = LongformerTokenizer.from_pretrained(conf.model_size)\n",
        "    model_config = LongformerConfig.from_pretrained(conf.model_size)\n"
      ]
    },
    {
      "cell_type": "code",
      "execution_count": null,
      "metadata": {
        "id": "ulWK4TG12kCM"
      },
      "outputs": [],
      "source": [
        "# create output paths\n",
        "if conf.mode == \"train\":\n",
        "    model_dir_name = conf.model_save_name + \"_\" + \\\n",
        "        datetime.now().strftime(\"%Y%m%d%H%M%S\")\n",
        "    model_dir = os.path.join(conf.output_path, model_dir_name)\n",
        "    results_path = os.path.join(model_dir, \"results\")\n",
        "    saved_model_path = os.path.join(model_dir, \"saved_model\")\n",
        "    os.makedirs(saved_model_path, exist_ok=False)\n",
        "    os.makedirs(results_path, exist_ok=False)\n",
        "    log_file = os.path.join(results_path, 'log.txt')\n",
        "\n",
        "else:\n",
        "    saved_model_path = os.path.join(conf.output_path, conf.saved_model_path)\n",
        "    model_dir_name = datetime.now().strftime(\"%Y%m%d%H%M%S\")\n",
        "    model_dir = os.path.join(\n",
        "        conf.output_path, 'inference_only_' + model_dir_name)\n",
        "    results_path = os.path.join(model_dir, \"results\")\n",
        "    os.makedirs(results_path, exist_ok=False)\n",
        "    log_file = os.path.join(results_path, 'log.txt')\n"
      ]
    },
    {
      "cell_type": "code",
      "execution_count": null,
      "metadata": {
        "colab": {
          "base_uri": "https://localhost:8080/"
        },
        "id": "a9vStERc2pBg",
        "outputId": "60f9d35e-5a64-4960-d0f1-f3480f9e8b05"
      },
      "outputs": [
        {
          "name": "stdout",
          "output_type": "stream",
          "text": [
            "Reading: operation_list.txt\n",
            "Reading: constant_list.txt\n",
            "['EOF', 'UNK', 'GO', ')', 'add(', 'subtract(', 'multiply(', 'divide(', 'exp(', 'greater(', 'table_sum(', 'table_average(', 'table_max(', 'table_min(']\n",
            "['const_2', 'const_1', 'const_3', 'const_4', 'const_5', 'const_6', 'const_7', 'const_8', 'const_9', 'const_10', 'const_100', 'const_1000', 'const_10000', 'const_100000', 'const_1000000', 'const_10000000', 'const_1000000000', 'const_m1', '#0', '#1', '#2', '#3', '#4', '#5', '#6', '#7', '#8', '#9', '#10', 'none']\n"
          ]
        }
      ],
      "source": [
        "op_list = read_txt(conf.op_list_file)\n",
        "op_list = [op + '(' for op in op_list]\n",
        "op_list = ['EOF', 'UNK', 'GO', ')'] + op_list\n",
        "const_list = read_txt(conf.const_list_file)\n",
        "const_list = [const.lower().replace('.', '_') for const in const_list]\n",
        "reserved_token_size = len(op_list) + len(const_list)\n",
        "\n",
        "print(op_list)\n",
        "print(const_list)"
      ]
    },
    {
      "cell_type": "code",
      "execution_count": null,
      "metadata": {
        "colab": {
          "base_uri": "https://localhost:8080/"
        },
        "id": "vi2Ker312r3B",
        "outputId": "4693b681-93d3-4d37-8eb1-20008a1a1950"
      },
      "outputs": [
        {
          "name": "stdout",
          "output_type": "stream",
          "text": [
            "Reading /content/drive/MyDrive/Colab Notebooks/Finance_LLM/dataset/train.json\n"
          ]
        },
        {
          "name": "stderr",
          "output_type": "stream",
          "text": [
            "100%|██████████| 6251/6251 [03:07<00:00, 33.39it/s]\n"
          ]
        },
        {
          "name": "stdout",
          "output_type": "stream",
          "text": [
            "Reading /content/drive/MyDrive/Colab Notebooks/Finance_LLM/dataset/dev.json\n"
          ]
        },
        {
          "name": "stderr",
          "output_type": "stream",
          "text": [
            "100%|██████████| 883/883 [00:25<00:00, 34.74it/s]\n"
          ]
        },
        {
          "name": "stdout",
          "output_type": "stream",
          "text": [
            "Reading /content/drive/MyDrive/Colab Notebooks/Finance_LLM/dataset/test.json\n"
          ]
        },
        {
          "name": "stderr",
          "output_type": "stream",
          "text": [
            "100%|██████████| 1147/1147 [00:33<00:00, 34.56it/s]\n"
          ]
        },
        {
          "name": "stdout",
          "output_type": "stream",
          "text": [
            "too long\n",
            "too long\n"
          ]
        }
      ],
      "source": [
        "train_data, train_examples, op_list, const_list = \\\n",
        "    read_examples(input_path=conf.train_file, tokenizer=tokenizer,\n",
        "                  op_list=op_list, const_list=const_list)\n",
        "\n",
        "valid_data, valid_examples, op_list, const_list = \\\n",
        "    read_examples(input_path=conf.valid_file, tokenizer=tokenizer,\n",
        "                  op_list=op_list, const_list=const_list)\n",
        "\n",
        "test_data, test_examples, op_list, const_list = \\\n",
        "    read_examples(input_path=conf.test_file, tokenizer=tokenizer,\n",
        "                  op_list=op_list, const_list=const_list)\n",
        "\n",
        "kwargs = {\"examples\": train_examples,\n",
        "          \"tokenizer\": tokenizer,\n",
        "          \"max_seq_length\": conf.max_seq_length,\n",
        "          \"max_program_length\": conf.max_program_length,\n",
        "          \"is_training\": True,\n",
        "          \"op_list\": op_list,\n",
        "          \"op_list_size\": len(op_list),\n",
        "          \"const_list\": const_list,\n",
        "          \"const_list_size\": len(const_list),\n",
        "          \"verbose\": True}\n",
        "\n",
        "train_features = convert_examples_to_features(**kwargs)\n",
        "kwargs[\"examples\"] = valid_examples\n",
        "kwargs[\"is_training\"] = False\n",
        "valid_features = convert_examples_to_features(**kwargs)\n",
        "kwargs[\"examples\"] = test_examples\n",
        "test_features = convert_examples_to_features(**kwargs)"
      ]
    },
    {
      "cell_type": "code",
      "execution_count": null,
      "metadata": {
        "id": "zVghaDfD2vj8"
      },
      "outputs": [],
      "source": [
        "def train():\n",
        "    # keep track of all input parameters\n",
        "    write_log(log_file, \"####################INPUT PARAMETERS###################\")\n",
        "    for attr in conf.__dict__:\n",
        "        value = conf.__dict__[attr]\n",
        "        write_log(log_file, attr + \" = \" + str(value))\n",
        "    write_log(log_file, \"#######################################################\")\n",
        "\n",
        "    model = Bert_model(num_decoder_layers=conf.num_decoder_layers,\n",
        "                       hidden_size=model_config.hidden_size,\n",
        "                       dropout_rate=conf.dropout_rate,\n",
        "                       program_length=conf.max_program_length,\n",
        "                       input_length=conf.max_seq_length,\n",
        "                       op_list=op_list,\n",
        "                       const_list=const_list)\n",
        "\n",
        "    model = nn.DataParallel(model)\n",
        "    model.to(conf.device)\n",
        "    optimizer = optim.Adam(model.parameters(), conf.learning_rate)\n",
        "    criterion = nn.CrossEntropyLoss(reduction='none', ignore_index=-1)\n",
        "    model.train()\n",
        "    # torch.autograd.set_detect_anomaly(True)\n",
        "\n",
        "    train_iterator = DataLoader(\n",
        "        is_training=True, data=train_features, batch_size=conf.batch_size, reserved_token_size=reserved_token_size, shuffle=True)\n",
        "\n",
        "    k = 0\n",
        "    record_k = 0\n",
        "    record_loss_k = 0\n",
        "    loss, start_time = 0.0, time.time()\n",
        "    record_loss = 0.0\n",
        "\n",
        "    for _ in range(conf.epoch):\n",
        "        train_iterator.reset()\n",
        "        for x in train_iterator:\n",
        "\n",
        "            input_ids = torch.tensor(x['input_ids']).to(conf.device)\n",
        "            input_mask = torch.tensor(x['input_mask']).to(conf.device)\n",
        "            segment_ids = torch.tensor(x['segment_ids']).to(conf.device)\n",
        "            program_ids = torch.tensor(x['program_ids']).to(conf.device)\n",
        "            program_mask = torch.tensor(x['program_mask']).to(conf.device)\n",
        "            option_mask = torch.tensor(x['option_mask']).to(conf.device)\n",
        "\n",
        "            model.zero_grad()\n",
        "            optimizer.zero_grad()\n",
        "\n",
        "            this_logits = model(True, input_ids, input_mask, segment_ids,\n",
        "                                option_mask, program_ids, program_mask, device=conf.device)\n",
        "\n",
        "            this_loss = criterion(\n",
        "                this_logits.view(-1, this_logits.shape[-1]), program_ids.view(-1))\n",
        "            this_loss = this_loss * program_mask.view(-1)\n",
        "            # per token loss\n",
        "            this_loss = this_loss.sum() / program_mask.sum()\n",
        "\n",
        "            record_loss += this_loss.item()\n",
        "            record_k += 1\n",
        "            k += 1\n",
        "\n",
        "            this_loss.backward()\n",
        "            optimizer.step()\n",
        "\n",
        "            if k > 1 and k % conf.report_loss == 0:\n",
        "                write_log(log_file, \"%d : loss = %.3f\" %\n",
        "                          (k, record_loss / record_k))\n",
        "                record_loss = 0.0\n",
        "                record_k = 0\n",
        "\n",
        "            if k > 1 and k % conf.report == 0:\n",
        "                print(\"Round: \", k / conf.report)\n",
        "                model.eval()\n",
        "                cost_time = time.time() - start_time\n",
        "                write_log(log_file, \"%d : time = %.3f \" %\n",
        "                          (k // conf.report, cost_time))\n",
        "                start_time = time.time()\n",
        "                if k // conf.report >= 1:\n",
        "                    print(\"Val test\")\n",
        "                    # save model\n",
        "                    saved_model_path_cnt = os.path.join(\n",
        "                        saved_model_path, 'loads', str(k // conf.report))\n",
        "                    os.makedirs(saved_model_path_cnt, exist_ok=True)\n",
        "                    torch.save(model.state_dict(),\n",
        "                               saved_model_path_cnt + \"/model.pt\")\n",
        "\n",
        "                    results_path_cnt = os.path.join(\n",
        "                        results_path, 'loads', str(k // conf.report))\n",
        "                    os.makedirs(results_path_cnt, exist_ok=True)\n",
        "                    validation_result = evaluate(\n",
        "                        valid_examples, valid_features, model, results_path_cnt, 'valid')\n",
        "                    # write_log(log_file, validation_result)\n",
        "\n",
        "                model.train()"
      ]
    },
    {
      "cell_type": "code",
      "execution_count": null,
      "metadata": {
        "id": "dJVZ8Lsj26xZ"
      },
      "outputs": [],
      "source": [
        "def evaluate(data_ori, data, model, ksave_dir, mode='valid'):\n",
        "\n",
        "    pred_list = []\n",
        "    pred_unk = []\n",
        "\n",
        "    ksave_dir_mode = os.path.join(ksave_dir, mode)\n",
        "    os.makedirs(ksave_dir_mode, exist_ok=True)\n",
        "\n",
        "    data_iterator = DataLoader(\n",
        "        is_training=False, data=data, batch_size=conf.batch_size_test, reserved_token_size=reserved_token_size, shuffle=False)\n",
        "\n",
        "    k = 0\n",
        "    all_results = []\n",
        "    with torch.no_grad():\n",
        "        for x in tqdm(data_iterator):\n",
        "\n",
        "            input_ids = x['input_ids']\n",
        "            input_mask = x['input_mask']\n",
        "            segment_ids = x['segment_ids']\n",
        "            program_ids = x['program_ids']\n",
        "            program_mask = x['program_mask']\n",
        "            option_mask = x['option_mask']\n",
        "\n",
        "            ori_len = len(input_ids)\n",
        "            for each_item in [input_ids, input_mask, segment_ids, program_ids, program_mask, option_mask]:\n",
        "                if ori_len < conf.batch_size_test:\n",
        "                    each_len = len(each_item[0])\n",
        "                    pad_x = [0] * each_len\n",
        "                    each_item += [pad_x] * (conf.batch_size_test - ori_len)\n",
        "\n",
        "            input_ids = torch.tensor(input_ids).to(conf.device)\n",
        "            input_mask = torch.tensor(input_mask).to(conf.device)\n",
        "            segment_ids = torch.tensor(segment_ids).to(conf.device)\n",
        "            program_ids = torch.tensor(program_ids).to(conf.device)\n",
        "            program_mask = torch.tensor(program_mask).to(conf.device)\n",
        "            option_mask = torch.tensor(option_mask).to(conf.device)\n",
        "\n",
        "            logits = model(False, input_ids, input_mask,\n",
        "                           segment_ids, option_mask, program_ids, program_mask, device=conf.device)\n",
        "\n",
        "            for this_logit, this_id in zip(logits.tolist(), x[\"unique_id\"]):\n",
        "                all_results.append(\n",
        "                    RawResult(\n",
        "                        unique_id=int(this_id),\n",
        "                        logits=this_logit,\n",
        "                        loss=None\n",
        "                    ))\n",
        "\n",
        "    output_prediction_file = os.path.join(ksave_dir_mode,\n",
        "                                          \"predictions.json\")\n",
        "    output_nbest_file = os.path.join(ksave_dir_mode,\n",
        "                                     \"nbest_predictions.json\")\n",
        "    output_eval_file = os.path.join(ksave_dir_mode, \"full_results.json\")\n",
        "    output_error_file = os.path.join(ksave_dir_mode, \"full_results_error.json\")\n",
        "\n",
        "    all_predictions, all_nbest = compute_predictions(\n",
        "        data_ori,\n",
        "        data,\n",
        "        all_results,\n",
        "        n_best_size=conf.n_best_size,\n",
        "        max_program_length=conf.max_program_length,\n",
        "        tokenizer=tokenizer,\n",
        "        op_list=op_list,\n",
        "        op_list_size=len(op_list),\n",
        "        const_list=const_list,\n",
        "        const_list_size=len(const_list))\n",
        "    write_predictions(all_predictions, output_prediction_file)\n",
        "    write_predictions(all_nbest, output_nbest_file)\n",
        "\n",
        "    if mode == \"valid\":\n",
        "        original_file = conf.valid_file\n",
        "    else:\n",
        "        original_file = conf.test_file\n",
        "\n",
        "    exe_acc, prog_acc = evaluate_result(\n",
        "        output_nbest_file, original_file, output_eval_file, output_error_file, program_mode=conf.program_mode)\n",
        "\n",
        "    prog_res = \"exe acc: \" + str(exe_acc) + \" prog acc: \" + str(prog_acc)\n",
        "    write_log(log_file, prog_res)\n",
        "\n",
        "    return"
      ]
    },
    {
      "cell_type": "code",
      "execution_count": null,
      "metadata": {
        "colab": {
          "base_uri": "https://localhost:8080/",
          "height": 1000,
          "referenced_widgets": [
            "6986e17e31ef424984a80108ffe18731",
            "5c3e6ec7dfa14530b681354a76d61c32",
            "54d9be95a8d84f5b901109d7bd3c1b1c",
            "01a2c61b8f8a42d5bbd1767649edc527",
            "650b3eb82c5c4508a465a099b3786a75",
            "d2db754b90e34b84a6d337cdd2f449d5",
            "42f41642ef0146c7970d29a050969f40",
            "605b24abe2214f6dac0eebe8af3f1216",
            "97ce665a32a840d8b1961acbe7cf571d",
            "c7cfe466ea0c4729b5b4a3122f4ae4e9",
            "bc9a63a5ddb446abbf324d9d9d54886b",
            "76b89199a1dd41008944618f9573f01e",
            "7c958f4a2cfe41fab93a968434b82059",
            "1f1e61f5f4234d6997d99c2bd71f7a69",
            "11d8bcdf136a4ee28cdede481ab42af8",
            "b4abb9ef9dde4c48b4ea6e25db002703",
            "39a7270962594da88f3daf744404b8a4",
            "9780ca9ecace418c87725b5ff03e8d3e",
            "00dcd96292804ef4b43e34452ad35d20",
            "bf14e8e239324299b7d65ebaf6a8a7cc",
            "20e8baf59e69476f9f6e8a4c73dd215d",
            "554fe56aaf3e40c88fcea45fa71c3be3"
          ]
        },
        "id": "BQkMV8Ge6XIX",
        "outputId": "47c10e7f-383e-4964-8bb2-0b3d0dfa98c0"
      },
      "outputs": [
        {
          "name": "stdout",
          "output_type": "stream",
          "text": [
            "####################INPUT PARAMETERS###################\n",
            "__module__ = config\n",
            "prog_name = generator\n",
            "root_path = /content/drive/MyDrive/Colab Notebooks/Finance_LLM/\n",
            "output_path = /content/drive/MyDrive/Colab Notebooks/Finance_LLM/models/\n",
            "cache_dir = /content/drive/MyDrive/Colab Notebooks/Finance_LLM/cache/\n",
            "model_save_name = bert-base\n",
            "train_file = /content/drive/MyDrive/Colab Notebooks/Finance_LLM/dataset/train.json\n",
            "valid_file = /content/drive/MyDrive/Colab Notebooks/Finance_LLM/dataset/dev.json\n",
            "test_file = /content/drive/MyDrive/Colab Notebooks/Finance_LLM/dataset/test.json\n",
            "op_list_file = operation_list.txt\n",
            "const_list_file = constant_list.txt\n",
            "pretrained_model = bert\n",
            "model_size = bert-base-uncased\n",
            "retrieve_mode = single\n",
            "program_mode = seq\n",
            "device = cuda\n",
            "mode = train\n",
            "saved_model_path = /content/drive/MyDrive/Colab Notebooks/Finance_LLM/models/roberta-large-gold_20210713020324/saved_model/loads/119/model.pt\n",
            "build_summary = False\n",
            "sep_attention = True\n",
            "layer_norm = True\n",
            "num_decoder_layers = 1\n",
            "max_seq_length = 512\n",
            "max_program_length = 30\n",
            "n_best_size = 20\n",
            "dropout_rate = 0.1\n",
            "batch_size = 16\n",
            "batch_size_test = 16\n",
            "epoch = 300\n",
            "learning_rate = 2e-05\n",
            "report = 300\n",
            "report_loss = 100\n",
            "max_step_ind = 11\n",
            "__dict__ = <attribute '__dict__' of 'parameters' objects>\n",
            "__weakref__ = <attribute '__weakref__' of 'parameters' objects>\n",
            "__doc__ = None\n",
            "#######################################################\n"
          ]
        },
        {
          "data": {
            "application/vnd.jupyter.widget-view+json": {
              "model_id": "6986e17e31ef424984a80108ffe18731",
              "version_major": 2,
              "version_minor": 0
            },
            "text/plain": [
              "config.json:   0%|          | 0.00/570 [00:00<?, ?B/s]"
            ]
          },
          "metadata": {},
          "output_type": "display_data"
        },
        {
          "data": {
            "application/vnd.jupyter.widget-view+json": {
              "model_id": "76b89199a1dd41008944618f9573f01e",
              "version_major": 2,
              "version_minor": 0
            },
            "text/plain": [
              "model.safetensors:   0%|          | 0.00/440M [00:00<?, ?B/s]"
            ]
          },
          "metadata": {},
          "output_type": "display_data"
        },
        {
          "name": "stderr",
          "output_type": "stream",
          "text": [
            "Some weights of the model checkpoint at bert-base-uncased were not used when initializing BertModel: ['cls.predictions.transform.LayerNorm.weight', 'cls.seq_relationship.weight', 'cls.predictions.transform.LayerNorm.bias', 'cls.predictions.transform.dense.weight', 'cls.predictions.transform.dense.bias', 'cls.predictions.bias', 'cls.seq_relationship.bias']\n",
            "- This IS expected if you are initializing BertModel from the checkpoint of a model trained on another task or with another architecture (e.g. initializing a BertForSequenceClassification model from a BertForPreTraining model).\n",
            "- This IS NOT expected if you are initializing BertModel from the checkpoint of a model that you expect to be exactly identical (initializing a BertForSequenceClassification model from a BertForSequenceClassification model).\n"
          ]
        },
        {
          "name": "stdout",
          "output_type": "stream",
          "text": [
            "100 : loss = 2.720\n",
            "200 : loss = 1.499\n",
            "300 : loss = 1.352\n",
            "Round:  1.0\n",
            "1 : time = 659.119 \n",
            "Val test\n"
          ]
        },
        {
          "name": "stderr",
          "output_type": "stream",
          "text": [
            "100%|██████████| 56/56 [00:47<00:00,  1.19it/s]\n"
          ]
        },
        {
          "name": "stdout",
          "output_type": "stream",
          "text": [
            "All:  883\n",
            "Correct:  0\n",
            "Exe acc:  0.009060022650056626\n",
            "Prog acc:  0.0056625141562853904\n",
            "exe acc: 0.009060022650056626 prog acc: 0.0056625141562853904\n",
            "400 : loss = 1.233\n",
            "500 : loss = 1.162\n",
            "600 : loss = 1.176\n",
            "Round:  2.0\n",
            "2 : time = 729.279 \n",
            "Val test\n"
          ]
        },
        {
          "name": "stderr",
          "output_type": "stream",
          "text": [
            "100%|██████████| 56/56 [00:47<00:00,  1.19it/s]\n"
          ]
        },
        {
          "name": "stdout",
          "output_type": "stream",
          "text": [
            "PNC/2009/page_46.pdf-1\n",
            "['divide(', '100', '50', ')', 'divide(', '#0', '#0', ')', 'EOF']\n",
            "['divide(', '50', '50', ')', 'EOF']\n",
            "1.0\n",
            "1.0\n",
            "PNC/2009/page_46.pdf-1\n",
            "All:  883\n",
            "Correct:  0\n",
            "Exe acc:  0.02491506228765572\n",
            "Prog acc:  0.022650056625141562\n",
            "exe acc: 0.02491506228765572 prog acc: 0.022650056625141562\n",
            "700 : loss = 1.125\n",
            "800 : loss = 1.012\n",
            "900 : loss = 0.967\n",
            "Round:  3.0\n",
            "3 : time = 727.080 \n",
            "Val test\n"
          ]
        },
        {
          "name": "stderr",
          "output_type": "stream",
          "text": [
            "100%|██████████| 56/56 [00:47<00:00,  1.19it/s]\n"
          ]
        },
        {
          "name": "stdout",
          "output_type": "stream",
          "text": [
            "All:  883\n",
            "Correct:  0\n",
            "Exe acc:  0.18459796149490373\n",
            "Prog acc:  0.17667044167610418\n",
            "exe acc: 0.18459796149490373 prog acc: 0.17667044167610418\n",
            "1000 : loss = 0.946\n",
            "1100 : loss = 0.902\n",
            "1200 : loss = 0.877\n",
            "Round:  4.0\n",
            "4 : time = 730.308 \n",
            "Val test\n"
          ]
        },
        {
          "name": "stderr",
          "output_type": "stream",
          "text": [
            "100%|██████████| 56/56 [00:47<00:00,  1.19it/s]\n"
          ]
        },
        {
          "name": "stdout",
          "output_type": "stream",
          "text": [
            "CDNS/2012/page_30.pdf-1\n",
            "['subtract(', '78.92', 'const_100', ')', 'divide(', '#0', 'const_100', ')', 'EOF']\n",
            "['subtract(', '78.92', 'const_100', ')', 'divide(', '#0', 'const_100', ')', 'subtract(', '78.92', 'const_100', ')', 'divide(', '#2', 'const_100', ')', 'EOF']\n",
            "-0.2108\n",
            "-0.2108\n",
            "CDNS/2012/page_30.pdf-1\n",
            "UPS/2006/page_32.pdf-1\n",
            "['subtract(', '148.92', 'const_100', ')', 'divide(', '#0', 'const_100', ')', 'EOF']\n",
            "['subtract(', '148.92', 'const_100', ')', 'divide(', '#0', 'const_100', ')', 'subtract(', '148.92', 'const_100', ')', 'divide(', '#2', 'const_100', ')', 'subtract(', '#1', '#3', ')', 'divide(', '#4', 'const_100', ')', 'subtract(', '#1', '#5', ')', 'divide(', '#6']\n",
            "0.4892\n",
            "0.4892\n",
            "UPS/2006/page_32.pdf-1\n",
            "All:  883\n",
            "Correct:  0\n",
            "Exe acc:  0.29784824462061155\n",
            "Prog acc:  0.2808607021517554\n",
            "exe acc: 0.29784824462061155 prog acc: 0.2808607021517554\n",
            "1300 : loss = 0.817\n",
            "1400 : loss = 0.748\n",
            "1500 : loss = 0.758\n",
            "Round:  5.0\n",
            "5 : time = 729.982 \n",
            "Val test\n"
          ]
        },
        {
          "name": "stderr",
          "output_type": "stream",
          "text": [
            "100%|██████████| 56/56 [00:47<00:00,  1.19it/s]\n"
          ]
        },
        {
          "name": "stdout",
          "output_type": "stream",
          "text": [
            "All:  883\n",
            "Correct:  0\n",
            "Exe acc:  0.3318233295583239\n",
            "Prog acc:  0.3091732729331823\n",
            "exe acc: 0.3318233295583239 prog acc: 0.3091732729331823\n",
            "1600 : loss = 0.727\n",
            "1700 : loss = 0.638\n",
            "1800 : loss = 0.669\n",
            "Round:  6.0\n",
            "6 : time = 729.438 \n",
            "Val test\n"
          ]
        },
        {
          "name": "stderr",
          "output_type": "stream",
          "text": [
            "100%|██████████| 56/56 [00:47<00:00,  1.18it/s]\n"
          ]
        },
        {
          "name": "stdout",
          "output_type": "stream",
          "text": [
            "All:  883\n",
            "Correct:  0\n",
            "Exe acc:  0.3114382785956965\n",
            "Prog acc:  0.2955832389580974\n",
            "exe acc: 0.3114382785956965 prog acc: 0.2955832389580974\n",
            "1900 : loss = 0.719\n",
            "2000 : loss = 0.707\n",
            "2100 : loss = 0.619\n",
            "Round:  7.0\n",
            "7 : time = 728.151 \n",
            "Val test\n"
          ]
        },
        {
          "name": "stderr",
          "output_type": "stream",
          "text": [
            "100%|██████████| 56/56 [00:47<00:00,  1.19it/s]\n"
          ]
        },
        {
          "name": "stdout",
          "output_type": "stream",
          "text": [
            "AES/2015/page_117.pdf-3\n",
            "['add(', '205', '163', ')', 'add(', '110', '#0', ')', 'divide(', '#1', 'const_3', ')', 'EOF']\n",
            "['add(', '205', '163', ')', 'add(', '#0', '110', ')', 'divide(', '#1', 'const_3', ')', 'EOF']\n",
            "159.33333\n",
            "159.33333\n",
            "AES/2015/page_117.pdf-3\n",
            "All:  883\n",
            "Correct:  0\n",
            "Exe acc:  0.3793884484711212\n",
            "Prog acc:  0.35447338618346547\n",
            "exe acc: 0.3793884484711212 prog acc: 0.35447338618346547\n",
            "2200 : loss = 0.602\n",
            "2300 : loss = 0.583\n",
            "2400 : loss = 0.520\n",
            "Round:  8.0\n",
            "8 : time = 726.914 \n",
            "Val test\n"
          ]
        },
        {
          "name": "stderr",
          "output_type": "stream",
          "text": [
            "100%|██████████| 56/56 [00:47<00:00,  1.17it/s]\n"
          ]
        },
        {
          "name": "stdout",
          "output_type": "stream",
          "text": [
            "AES/2015/page_117.pdf-3\n",
            "['add(', '205', '163', ')', 'add(', '110', '#0', ')', 'divide(', '#1', 'const_3', ')', 'EOF']\n",
            "['add(', '205', '163', ')', 'add(', '#0', '110', ')', 'divide(', '#1', 'const_3', ')', 'EOF']\n",
            "159.33333\n",
            "159.33333\n",
            "AES/2015/page_117.pdf-3\n",
            "PM/2014/page_67.pdf-1\n",
            "['add(', '750', '750', ')', 'add(', '#0', '500', ')', 'EOF']\n",
            "['add(', '500', '750', ')', 'add(', '#0', '750', ')', 'EOF']\n",
            "2000.0\n",
            "2000.0\n",
            "PM/2014/page_67.pdf-1\n",
            "All:  883\n",
            "Correct:  0\n",
            "Exe acc:  0.3793884484711212\n",
            "Prog acc:  0.3567383918459796\n",
            "exe acc: 0.3793884484711212 prog acc: 0.3567383918459796\n",
            "2500 : loss = 0.551\n",
            "2600 : loss = 0.607\n",
            "2700 : loss = 0.556\n",
            "Round:  9.0\n",
            "9 : time = 730.592 \n",
            "Val test\n"
          ]
        },
        {
          "name": "stderr",
          "output_type": "stream",
          "text": [
            "100%|██████████| 56/56 [00:47<00:00,  1.19it/s]\n"
          ]
        },
        {
          "name": "stdout",
          "output_type": "stream",
          "text": [
            "CMCSA/2015/page_64.pdf-3\n",
            "['add(', '81', '296', ')', 'add(', '576', '#0', ')', 'add(', '#1', 'const_3', ')', 'divide(', '#2', 'const_2', ')', 'EOF']\n",
            "['add(', '81', '576', ')', 'add(', '#0', '296', ')', 'add(', '#1', 'const_3', ')', 'divide(', '#2', 'const_2', ')', 'EOF']\n",
            "478.0\n",
            "478.0\n",
            "CMCSA/2015/page_64.pdf-3\n",
            "All:  883\n",
            "Correct:  0\n",
            "Exe acc:  0.3884484711211778\n",
            "Prog acc:  0.3646659116647792\n",
            "exe acc: 0.3884484711211778 prog acc: 0.3646659116647792\n",
            "2800 : loss = 0.476\n",
            "2900 : loss = 0.516\n",
            "3000 : loss = 0.470\n",
            "Round:  10.0\n",
            "10 : time = 727.223 \n",
            "Val test\n"
          ]
        },
        {
          "name": "stderr",
          "output_type": "stream",
          "text": [
            "100%|██████████| 56/56 [00:47<00:00,  1.17it/s]\n"
          ]
        },
        {
          "name": "stdout",
          "output_type": "stream",
          "text": [
            "CB/2010/page_200.pdf-3\n",
            "['add(', '256868', '1230881', ')', 'add(', '638401', '#0', ')', 'add(', '#1', 'const_3', ')', 'divide(', '#2', 'const_2', ')', 'EOF']\n",
            "['add(', '256868', '1230881', ')', 'add(', '#0', '638401', ')', 'add(', '#1', 'const_3', ')', 'divide(', '#2', 'const_2', ')', 'EOF']\n",
            "1063076.5\n",
            "1063076.5\n",
            "CB/2010/page_200.pdf-3\n",
            "All:  883\n",
            "Correct:  0\n",
            "Exe acc:  0.42355605889014725\n",
            "Prog acc:  0.3952434881087203\n",
            "exe acc: 0.42355605889014725 prog acc: 0.3952434881087203\n",
            "3100 : loss = 0.435\n",
            "3200 : loss = 0.394\n",
            "3300 : loss = 0.398\n",
            "Round:  11.0\n",
            "11 : time = 737.752 \n",
            "Val test\n"
          ]
        },
        {
          "name": "stderr",
          "output_type": "stream",
          "text": [
            "100%|██████████| 56/56 [00:47<00:00,  1.19it/s]\n"
          ]
        },
        {
          "name": "stdout",
          "output_type": "stream",
          "text": [
            "All:  883\n",
            "Correct:  0\n",
            "Exe acc:  0.40090600226500567\n",
            "Prog acc:  0.37599093997734995\n",
            "exe acc: 0.40090600226500567 prog acc: 0.37599093997734995\n",
            "3400 : loss = 0.450\n",
            "3500 : loss = 0.423\n",
            "3600 : loss = 0.331\n",
            "Round:  12.0\n",
            "12 : time = 728.771 \n",
            "Val test\n"
          ]
        },
        {
          "name": "stderr",
          "output_type": "stream",
          "text": [
            "100%|██████████| 56/56 [00:47<00:00,  1.19it/s]\n"
          ]
        },
        {
          "name": "stdout",
          "output_type": "stream",
          "text": [
            "IP/2012/page_93.pdf-4\n",
            "['add(', '231', '205', ')', 'add(', '210', '#0', ')', 'add(', '#1', 'const_3', ')', 'divide(', '#2', 'const_2', ')', 'EOF']\n",
            "['add(', '231', '205', ')', 'add(', '#0', '210', ')', 'add(', '#1', 'const_3', ')', 'divide(', '#2', 'const_2', ')', 'EOF']\n",
            "324.5\n",
            "324.5\n",
            "IP/2012/page_93.pdf-4\n",
            "All:  883\n",
            "Correct:  0\n",
            "Exe acc:  0.40656851642129105\n",
            "Prog acc:  0.39184597961494905\n",
            "exe acc: 0.40656851642129105 prog acc: 0.39184597961494905\n",
            "3700 : loss = 0.329\n",
            "3800 : loss = 0.391\n",
            "3900 : loss = 0.418\n",
            "Round:  13.0\n",
            "13 : time = 727.319 \n",
            "Val test\n"
          ]
        },
        {
          "name": "stderr",
          "output_type": "stream",
          "text": [
            "100%|██████████| 56/56 [00:47<00:00,  1.18it/s]\n"
          ]
        },
        {
          "name": "stdout",
          "output_type": "stream",
          "text": [
            "CB/2010/page_200.pdf-3\n",
            "['add(', '256868', '1230881', ')', 'add(', '638401', '#0', ')', 'add(', '#1', 'const_3', ')', 'divide(', '#2', 'const_2', ')', 'EOF']\n",
            "['add(', '256868', '1230881', ')', 'add(', '#0', '638401', ')', 'add(', '#1', 'const_3', ')', 'divide(', '#2', 'const_2', ')', 'EOF']\n",
            "1063076.5\n",
            "1063076.5\n",
            "CB/2010/page_200.pdf-3\n",
            "IP/2005/page_19.pdf-3\n",
            "['add(', '1923', '2040', ')', 'add(', '1734', '#0', ')', 'add(', '#1', 'const_3', ')', 'divide(', '#2', 'const_2', ')', 'EOF']\n",
            "['add(', '1923', '2040', ')', 'add(', '#0', '1734', ')', 'add(', '#1', 'const_3', ')', 'divide(', '#2', 'const_2', ')', 'EOF']\n",
            "2850.0\n",
            "2850.0\n",
            "IP/2005/page_19.pdf-3\n",
            "All:  883\n",
            "Correct:  0\n",
            "Exe acc:  0.41676104190260477\n",
            "Prog acc:  0.3952434881087203\n",
            "exe acc: 0.41676104190260477 prog acc: 0.3952434881087203\n",
            "4000 : loss = 0.304\n",
            "4100 : loss = 0.344\n",
            "4200 : loss = 0.346\n",
            "Round:  14.0\n",
            "14 : time = 731.780 \n",
            "Val test\n"
          ]
        },
        {
          "name": "stderr",
          "output_type": "stream",
          "text": [
            "100%|██████████| 56/56 [00:47<00:00,  1.19it/s]\n"
          ]
        },
        {
          "name": "stdout",
          "output_type": "stream",
          "text": [
            "SYY/2019/page_9.pdf-2\n",
            "['subtract(', '62%', '62%', ')', 'EOF']\n",
            "['subtract(', '62%', '62%', ')', 'divide(', '#0', '62%', ')', 'EOF']\n",
            "0.0\n",
            "0.0\n",
            "SYY/2019/page_9.pdf-2\n",
            "BDX/2018/page_82.pdf-1\n",
            "['add(', '136', '110', ')', 'add(', '81', '#0', ')', 'divide(', '#1', 'const_3', ')', 'EOF']\n",
            "['add(', '136', '110', ')', 'add(', '#0', '81', ')', 'divide(', '#1', 'const_3', ')', 'EOF']\n",
            "109.0\n",
            "109.0\n",
            "BDX/2018/page_82.pdf-1\n",
            "LKQ/2010/page_84.pdf-4\n",
            "['add(', '0.9', '0.9', ')', 'add(', '#0', '1.0', ')', 'EOF']\n",
            "['add(', '1.0', '0.9', ')', 'add(', '#0', '0.9', ')', 'EOF']\n",
            "2.8\n",
            "2.8\n",
            "LKQ/2010/page_84.pdf-4\n",
            "TFX/2015/page_70.pdf-3\n",
            "['multiply(', '86.98', '4446967', ')', 'EOF']\n",
            "['multiply(', '4446967', '86.98', ')', 'EOF']\n",
            "386797189.66\n",
            "386797189.66\n",
            "TFX/2015/page_70.pdf-3\n",
            "All:  883\n",
            "Correct:  0\n",
            "Exe acc:  0.43148357870894677\n",
            "Prog acc:  0.4099660249150623\n",
            "exe acc: 0.43148357870894677 prog acc: 0.4099660249150623\n",
            "4300 : loss = 0.338\n",
            "4400 : loss = 0.264\n"
          ]
        }
      ],
      "source": [
        "if __name__ == '__main__':\n",
        "  if conf.mode == \"train\":\n",
        "    train()"
      ]
    }
  ],
  "metadata": {
    "accelerator": "TPU",
    "colab": {
      "gpuType": "V28",
      "provenance": []
    },
    "kernelspec": {
      "display_name": "Python 3",
      "name": "python3"
    },
    "language_info": {
      "name": "python"
    },
    "widgets": {
      "application/vnd.jupyter.widget-state+json": {
        "00dcd96292804ef4b43e34452ad35d20": {
          "model_module": "@jupyter-widgets/base",
          "model_module_version": "1.2.0",
          "model_name": "LayoutModel",
          "state": {
            "_model_module": "@jupyter-widgets/base",
            "_model_module_version": "1.2.0",
            "_model_name": "LayoutModel",
            "_view_count": null,
            "_view_module": "@jupyter-widgets/base",
            "_view_module_version": "1.2.0",
            "_view_name": "LayoutView",
            "align_content": null,
            "align_items": null,
            "align_self": null,
            "border": null,
            "bottom": null,
            "display": null,
            "flex": null,
            "flex_flow": null,
            "grid_area": null,
            "grid_auto_columns": null,
            "grid_auto_flow": null,
            "grid_auto_rows": null,
            "grid_column": null,
            "grid_gap": null,
            "grid_row": null,
            "grid_template_areas": null,
            "grid_template_columns": null,
            "grid_template_rows": null,
            "height": null,
            "justify_content": null,
            "justify_items": null,
            "left": null,
            "margin": null,
            "max_height": null,
            "max_width": null,
            "min_height": null,
            "min_width": null,
            "object_fit": null,
            "object_position": null,
            "order": null,
            "overflow": null,
            "overflow_x": null,
            "overflow_y": null,
            "padding": null,
            "right": null,
            "top": null,
            "visibility": null,
            "width": null
          }
        },
        "01a2c61b8f8a42d5bbd1767649edc527": {
          "model_module": "@jupyter-widgets/controls",
          "model_module_version": "1.5.0",
          "model_name": "HTMLModel",
          "state": {
            "_dom_classes": [],
            "_model_module": "@jupyter-widgets/controls",
            "_model_module_version": "1.5.0",
            "_model_name": "HTMLModel",
            "_view_count": null,
            "_view_module": "@jupyter-widgets/controls",
            "_view_module_version": "1.5.0",
            "_view_name": "HTMLView",
            "description": "",
            "description_tooltip": null,
            "layout": "IPY_MODEL_c7cfe466ea0c4729b5b4a3122f4ae4e9",
            "placeholder": "​",
            "style": "IPY_MODEL_bc9a63a5ddb446abbf324d9d9d54886b",
            "value": " 570/570 [00:00&lt;00:00, 18.2kB/s]"
          }
        },
        "11d8bcdf136a4ee28cdede481ab42af8": {
          "model_module": "@jupyter-widgets/controls",
          "model_module_version": "1.5.0",
          "model_name": "HTMLModel",
          "state": {
            "_dom_classes": [],
            "_model_module": "@jupyter-widgets/controls",
            "_model_module_version": "1.5.0",
            "_model_name": "HTMLModel",
            "_view_count": null,
            "_view_module": "@jupyter-widgets/controls",
            "_view_module_version": "1.5.0",
            "_view_name": "HTMLView",
            "description": "",
            "description_tooltip": null,
            "layout": "IPY_MODEL_20e8baf59e69476f9f6e8a4c73dd215d",
            "placeholder": "​",
            "style": "IPY_MODEL_554fe56aaf3e40c88fcea45fa71c3be3",
            "value": " 440M/440M [00:03&lt;00:00, 149MB/s]"
          }
        },
        "1f1e61f5f4234d6997d99c2bd71f7a69": {
          "model_module": "@jupyter-widgets/controls",
          "model_module_version": "1.5.0",
          "model_name": "FloatProgressModel",
          "state": {
            "_dom_classes": [],
            "_model_module": "@jupyter-widgets/controls",
            "_model_module_version": "1.5.0",
            "_model_name": "FloatProgressModel",
            "_view_count": null,
            "_view_module": "@jupyter-widgets/controls",
            "_view_module_version": "1.5.0",
            "_view_name": "ProgressView",
            "bar_style": "success",
            "description": "",
            "description_tooltip": null,
            "layout": "IPY_MODEL_00dcd96292804ef4b43e34452ad35d20",
            "max": 440449768,
            "min": 0,
            "orientation": "horizontal",
            "style": "IPY_MODEL_bf14e8e239324299b7d65ebaf6a8a7cc",
            "value": 440449768
          }
        },
        "20e8baf59e69476f9f6e8a4c73dd215d": {
          "model_module": "@jupyter-widgets/base",
          "model_module_version": "1.2.0",
          "model_name": "LayoutModel",
          "state": {
            "_model_module": "@jupyter-widgets/base",
            "_model_module_version": "1.2.0",
            "_model_name": "LayoutModel",
            "_view_count": null,
            "_view_module": "@jupyter-widgets/base",
            "_view_module_version": "1.2.0",
            "_view_name": "LayoutView",
            "align_content": null,
            "align_items": null,
            "align_self": null,
            "border": null,
            "bottom": null,
            "display": null,
            "flex": null,
            "flex_flow": null,
            "grid_area": null,
            "grid_auto_columns": null,
            "grid_auto_flow": null,
            "grid_auto_rows": null,
            "grid_column": null,
            "grid_gap": null,
            "grid_row": null,
            "grid_template_areas": null,
            "grid_template_columns": null,
            "grid_template_rows": null,
            "height": null,
            "justify_content": null,
            "justify_items": null,
            "left": null,
            "margin": null,
            "max_height": null,
            "max_width": null,
            "min_height": null,
            "min_width": null,
            "object_fit": null,
            "object_position": null,
            "order": null,
            "overflow": null,
            "overflow_x": null,
            "overflow_y": null,
            "padding": null,
            "right": null,
            "top": null,
            "visibility": null,
            "width": null
          }
        },
        "39a7270962594da88f3daf744404b8a4": {
          "model_module": "@jupyter-widgets/base",
          "model_module_version": "1.2.0",
          "model_name": "LayoutModel",
          "state": {
            "_model_module": "@jupyter-widgets/base",
            "_model_module_version": "1.2.0",
            "_model_name": "LayoutModel",
            "_view_count": null,
            "_view_module": "@jupyter-widgets/base",
            "_view_module_version": "1.2.0",
            "_view_name": "LayoutView",
            "align_content": null,
            "align_items": null,
            "align_self": null,
            "border": null,
            "bottom": null,
            "display": null,
            "flex": null,
            "flex_flow": null,
            "grid_area": null,
            "grid_auto_columns": null,
            "grid_auto_flow": null,
            "grid_auto_rows": null,
            "grid_column": null,
            "grid_gap": null,
            "grid_row": null,
            "grid_template_areas": null,
            "grid_template_columns": null,
            "grid_template_rows": null,
            "height": null,
            "justify_content": null,
            "justify_items": null,
            "left": null,
            "margin": null,
            "max_height": null,
            "max_width": null,
            "min_height": null,
            "min_width": null,
            "object_fit": null,
            "object_position": null,
            "order": null,
            "overflow": null,
            "overflow_x": null,
            "overflow_y": null,
            "padding": null,
            "right": null,
            "top": null,
            "visibility": null,
            "width": null
          }
        },
        "42f41642ef0146c7970d29a050969f40": {
          "model_module": "@jupyter-widgets/controls",
          "model_module_version": "1.5.0",
          "model_name": "DescriptionStyleModel",
          "state": {
            "_model_module": "@jupyter-widgets/controls",
            "_model_module_version": "1.5.0",
            "_model_name": "DescriptionStyleModel",
            "_view_count": null,
            "_view_module": "@jupyter-widgets/base",
            "_view_module_version": "1.2.0",
            "_view_name": "StyleView",
            "description_width": ""
          }
        },
        "54d9be95a8d84f5b901109d7bd3c1b1c": {
          "model_module": "@jupyter-widgets/controls",
          "model_module_version": "1.5.0",
          "model_name": "FloatProgressModel",
          "state": {
            "_dom_classes": [],
            "_model_module": "@jupyter-widgets/controls",
            "_model_module_version": "1.5.0",
            "_model_name": "FloatProgressModel",
            "_view_count": null,
            "_view_module": "@jupyter-widgets/controls",
            "_view_module_version": "1.5.0",
            "_view_name": "ProgressView",
            "bar_style": "success",
            "description": "",
            "description_tooltip": null,
            "layout": "IPY_MODEL_605b24abe2214f6dac0eebe8af3f1216",
            "max": 570,
            "min": 0,
            "orientation": "horizontal",
            "style": "IPY_MODEL_97ce665a32a840d8b1961acbe7cf571d",
            "value": 570
          }
        },
        "554fe56aaf3e40c88fcea45fa71c3be3": {
          "model_module": "@jupyter-widgets/controls",
          "model_module_version": "1.5.0",
          "model_name": "DescriptionStyleModel",
          "state": {
            "_model_module": "@jupyter-widgets/controls",
            "_model_module_version": "1.5.0",
            "_model_name": "DescriptionStyleModel",
            "_view_count": null,
            "_view_module": "@jupyter-widgets/base",
            "_view_module_version": "1.2.0",
            "_view_name": "StyleView",
            "description_width": ""
          }
        },
        "5c3e6ec7dfa14530b681354a76d61c32": {
          "model_module": "@jupyter-widgets/controls",
          "model_module_version": "1.5.0",
          "model_name": "HTMLModel",
          "state": {
            "_dom_classes": [],
            "_model_module": "@jupyter-widgets/controls",
            "_model_module_version": "1.5.0",
            "_model_name": "HTMLModel",
            "_view_count": null,
            "_view_module": "@jupyter-widgets/controls",
            "_view_module_version": "1.5.0",
            "_view_name": "HTMLView",
            "description": "",
            "description_tooltip": null,
            "layout": "IPY_MODEL_d2db754b90e34b84a6d337cdd2f449d5",
            "placeholder": "​",
            "style": "IPY_MODEL_42f41642ef0146c7970d29a050969f40",
            "value": "config.json: 100%"
          }
        },
        "605b24abe2214f6dac0eebe8af3f1216": {
          "model_module": "@jupyter-widgets/base",
          "model_module_version": "1.2.0",
          "model_name": "LayoutModel",
          "state": {
            "_model_module": "@jupyter-widgets/base",
            "_model_module_version": "1.2.0",
            "_model_name": "LayoutModel",
            "_view_count": null,
            "_view_module": "@jupyter-widgets/base",
            "_view_module_version": "1.2.0",
            "_view_name": "LayoutView",
            "align_content": null,
            "align_items": null,
            "align_self": null,
            "border": null,
            "bottom": null,
            "display": null,
            "flex": null,
            "flex_flow": null,
            "grid_area": null,
            "grid_auto_columns": null,
            "grid_auto_flow": null,
            "grid_auto_rows": null,
            "grid_column": null,
            "grid_gap": null,
            "grid_row": null,
            "grid_template_areas": null,
            "grid_template_columns": null,
            "grid_template_rows": null,
            "height": null,
            "justify_content": null,
            "justify_items": null,
            "left": null,
            "margin": null,
            "max_height": null,
            "max_width": null,
            "min_height": null,
            "min_width": null,
            "object_fit": null,
            "object_position": null,
            "order": null,
            "overflow": null,
            "overflow_x": null,
            "overflow_y": null,
            "padding": null,
            "right": null,
            "top": null,
            "visibility": null,
            "width": null
          }
        },
        "650b3eb82c5c4508a465a099b3786a75": {
          "model_module": "@jupyter-widgets/base",
          "model_module_version": "1.2.0",
          "model_name": "LayoutModel",
          "state": {
            "_model_module": "@jupyter-widgets/base",
            "_model_module_version": "1.2.0",
            "_model_name": "LayoutModel",
            "_view_count": null,
            "_view_module": "@jupyter-widgets/base",
            "_view_module_version": "1.2.0",
            "_view_name": "LayoutView",
            "align_content": null,
            "align_items": null,
            "align_self": null,
            "border": null,
            "bottom": null,
            "display": null,
            "flex": null,
            "flex_flow": null,
            "grid_area": null,
            "grid_auto_columns": null,
            "grid_auto_flow": null,
            "grid_auto_rows": null,
            "grid_column": null,
            "grid_gap": null,
            "grid_row": null,
            "grid_template_areas": null,
            "grid_template_columns": null,
            "grid_template_rows": null,
            "height": null,
            "justify_content": null,
            "justify_items": null,
            "left": null,
            "margin": null,
            "max_height": null,
            "max_width": null,
            "min_height": null,
            "min_width": null,
            "object_fit": null,
            "object_position": null,
            "order": null,
            "overflow": null,
            "overflow_x": null,
            "overflow_y": null,
            "padding": null,
            "right": null,
            "top": null,
            "visibility": null,
            "width": null
          }
        },
        "6986e17e31ef424984a80108ffe18731": {
          "model_module": "@jupyter-widgets/controls",
          "model_module_version": "1.5.0",
          "model_name": "HBoxModel",
          "state": {
            "_dom_classes": [],
            "_model_module": "@jupyter-widgets/controls",
            "_model_module_version": "1.5.0",
            "_model_name": "HBoxModel",
            "_view_count": null,
            "_view_module": "@jupyter-widgets/controls",
            "_view_module_version": "1.5.0",
            "_view_name": "HBoxView",
            "box_style": "",
            "children": [
              "IPY_MODEL_5c3e6ec7dfa14530b681354a76d61c32",
              "IPY_MODEL_54d9be95a8d84f5b901109d7bd3c1b1c",
              "IPY_MODEL_01a2c61b8f8a42d5bbd1767649edc527"
            ],
            "layout": "IPY_MODEL_650b3eb82c5c4508a465a099b3786a75"
          }
        },
        "76b89199a1dd41008944618f9573f01e": {
          "model_module": "@jupyter-widgets/controls",
          "model_module_version": "1.5.0",
          "model_name": "HBoxModel",
          "state": {
            "_dom_classes": [],
            "_model_module": "@jupyter-widgets/controls",
            "_model_module_version": "1.5.0",
            "_model_name": "HBoxModel",
            "_view_count": null,
            "_view_module": "@jupyter-widgets/controls",
            "_view_module_version": "1.5.0",
            "_view_name": "HBoxView",
            "box_style": "",
            "children": [
              "IPY_MODEL_7c958f4a2cfe41fab93a968434b82059",
              "IPY_MODEL_1f1e61f5f4234d6997d99c2bd71f7a69",
              "IPY_MODEL_11d8bcdf136a4ee28cdede481ab42af8"
            ],
            "layout": "IPY_MODEL_b4abb9ef9dde4c48b4ea6e25db002703"
          }
        },
        "7c958f4a2cfe41fab93a968434b82059": {
          "model_module": "@jupyter-widgets/controls",
          "model_module_version": "1.5.0",
          "model_name": "HTMLModel",
          "state": {
            "_dom_classes": [],
            "_model_module": "@jupyter-widgets/controls",
            "_model_module_version": "1.5.0",
            "_model_name": "HTMLModel",
            "_view_count": null,
            "_view_module": "@jupyter-widgets/controls",
            "_view_module_version": "1.5.0",
            "_view_name": "HTMLView",
            "description": "",
            "description_tooltip": null,
            "layout": "IPY_MODEL_39a7270962594da88f3daf744404b8a4",
            "placeholder": "​",
            "style": "IPY_MODEL_9780ca9ecace418c87725b5ff03e8d3e",
            "value": "model.safetensors: 100%"
          }
        },
        "9780ca9ecace418c87725b5ff03e8d3e": {
          "model_module": "@jupyter-widgets/controls",
          "model_module_version": "1.5.0",
          "model_name": "DescriptionStyleModel",
          "state": {
            "_model_module": "@jupyter-widgets/controls",
            "_model_module_version": "1.5.0",
            "_model_name": "DescriptionStyleModel",
            "_view_count": null,
            "_view_module": "@jupyter-widgets/base",
            "_view_module_version": "1.2.0",
            "_view_name": "StyleView",
            "description_width": ""
          }
        },
        "97ce665a32a840d8b1961acbe7cf571d": {
          "model_module": "@jupyter-widgets/controls",
          "model_module_version": "1.5.0",
          "model_name": "ProgressStyleModel",
          "state": {
            "_model_module": "@jupyter-widgets/controls",
            "_model_module_version": "1.5.0",
            "_model_name": "ProgressStyleModel",
            "_view_count": null,
            "_view_module": "@jupyter-widgets/base",
            "_view_module_version": "1.2.0",
            "_view_name": "StyleView",
            "bar_color": null,
            "description_width": ""
          }
        },
        "b4abb9ef9dde4c48b4ea6e25db002703": {
          "model_module": "@jupyter-widgets/base",
          "model_module_version": "1.2.0",
          "model_name": "LayoutModel",
          "state": {
            "_model_module": "@jupyter-widgets/base",
            "_model_module_version": "1.2.0",
            "_model_name": "LayoutModel",
            "_view_count": null,
            "_view_module": "@jupyter-widgets/base",
            "_view_module_version": "1.2.0",
            "_view_name": "LayoutView",
            "align_content": null,
            "align_items": null,
            "align_self": null,
            "border": null,
            "bottom": null,
            "display": null,
            "flex": null,
            "flex_flow": null,
            "grid_area": null,
            "grid_auto_columns": null,
            "grid_auto_flow": null,
            "grid_auto_rows": null,
            "grid_column": null,
            "grid_gap": null,
            "grid_row": null,
            "grid_template_areas": null,
            "grid_template_columns": null,
            "grid_template_rows": null,
            "height": null,
            "justify_content": null,
            "justify_items": null,
            "left": null,
            "margin": null,
            "max_height": null,
            "max_width": null,
            "min_height": null,
            "min_width": null,
            "object_fit": null,
            "object_position": null,
            "order": null,
            "overflow": null,
            "overflow_x": null,
            "overflow_y": null,
            "padding": null,
            "right": null,
            "top": null,
            "visibility": null,
            "width": null
          }
        },
        "bc9a63a5ddb446abbf324d9d9d54886b": {
          "model_module": "@jupyter-widgets/controls",
          "model_module_version": "1.5.0",
          "model_name": "DescriptionStyleModel",
          "state": {
            "_model_module": "@jupyter-widgets/controls",
            "_model_module_version": "1.5.0",
            "_model_name": "DescriptionStyleModel",
            "_view_count": null,
            "_view_module": "@jupyter-widgets/base",
            "_view_module_version": "1.2.0",
            "_view_name": "StyleView",
            "description_width": ""
          }
        },
        "bf14e8e239324299b7d65ebaf6a8a7cc": {
          "model_module": "@jupyter-widgets/controls",
          "model_module_version": "1.5.0",
          "model_name": "ProgressStyleModel",
          "state": {
            "_model_module": "@jupyter-widgets/controls",
            "_model_module_version": "1.5.0",
            "_model_name": "ProgressStyleModel",
            "_view_count": null,
            "_view_module": "@jupyter-widgets/base",
            "_view_module_version": "1.2.0",
            "_view_name": "StyleView",
            "bar_color": null,
            "description_width": ""
          }
        },
        "c7cfe466ea0c4729b5b4a3122f4ae4e9": {
          "model_module": "@jupyter-widgets/base",
          "model_module_version": "1.2.0",
          "model_name": "LayoutModel",
          "state": {
            "_model_module": "@jupyter-widgets/base",
            "_model_module_version": "1.2.0",
            "_model_name": "LayoutModel",
            "_view_count": null,
            "_view_module": "@jupyter-widgets/base",
            "_view_module_version": "1.2.0",
            "_view_name": "LayoutView",
            "align_content": null,
            "align_items": null,
            "align_self": null,
            "border": null,
            "bottom": null,
            "display": null,
            "flex": null,
            "flex_flow": null,
            "grid_area": null,
            "grid_auto_columns": null,
            "grid_auto_flow": null,
            "grid_auto_rows": null,
            "grid_column": null,
            "grid_gap": null,
            "grid_row": null,
            "grid_template_areas": null,
            "grid_template_columns": null,
            "grid_template_rows": null,
            "height": null,
            "justify_content": null,
            "justify_items": null,
            "left": null,
            "margin": null,
            "max_height": null,
            "max_width": null,
            "min_height": null,
            "min_width": null,
            "object_fit": null,
            "object_position": null,
            "order": null,
            "overflow": null,
            "overflow_x": null,
            "overflow_y": null,
            "padding": null,
            "right": null,
            "top": null,
            "visibility": null,
            "width": null
          }
        },
        "d2db754b90e34b84a6d337cdd2f449d5": {
          "model_module": "@jupyter-widgets/base",
          "model_module_version": "1.2.0",
          "model_name": "LayoutModel",
          "state": {
            "_model_module": "@jupyter-widgets/base",
            "_model_module_version": "1.2.0",
            "_model_name": "LayoutModel",
            "_view_count": null,
            "_view_module": "@jupyter-widgets/base",
            "_view_module_version": "1.2.0",
            "_view_name": "LayoutView",
            "align_content": null,
            "align_items": null,
            "align_self": null,
            "border": null,
            "bottom": null,
            "display": null,
            "flex": null,
            "flex_flow": null,
            "grid_area": null,
            "grid_auto_columns": null,
            "grid_auto_flow": null,
            "grid_auto_rows": null,
            "grid_column": null,
            "grid_gap": null,
            "grid_row": null,
            "grid_template_areas": null,
            "grid_template_columns": null,
            "grid_template_rows": null,
            "height": null,
            "justify_content": null,
            "justify_items": null,
            "left": null,
            "margin": null,
            "max_height": null,
            "max_width": null,
            "min_height": null,
            "min_width": null,
            "object_fit": null,
            "object_position": null,
            "order": null,
            "overflow": null,
            "overflow_x": null,
            "overflow_y": null,
            "padding": null,
            "right": null,
            "top": null,
            "visibility": null,
            "width": null
          }
        }
      }
    }
  },
  "nbformat": 4,
  "nbformat_minor": 0
}
